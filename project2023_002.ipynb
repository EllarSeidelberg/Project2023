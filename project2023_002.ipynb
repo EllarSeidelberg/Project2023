{
 "cells": [
  {
   "cell_type": "raw",
   "metadata": {
    "id": "6KkgWMGWwfJO"
   },
   "source": []
  },
  {
   "cell_type": "markdown",
   "metadata": {
    "id": "JIRVtPt1wfJW"
   },
   "source": [
    "## Project 2023"
   ]
  },
  {
   "cell_type": "markdown",
   "metadata": {
    "id": "V7VndnQbwfJY"
   },
   "source": [
    "# Sissejuhatus\n",
    "\n",
    "Teame ütlust, et ühes õiges poisslapse nimes peab olema \"R\"-täht. Sellest kujunes välja mõte, uurida, kas tuleb esile ka mõni täht või tähed, mis esineb enamikus tänava nimedes. Ilmselt siin võib olla ka mingi seos, et eesti keeles, esineb teatud tähti sagedamini kui teisi, aga samas võib olla tulemus ka erinev. Näiteks tänava nimedeks valitakse sõnu, kus need eesti keelele üldised reeglid tähtede esinemissagedusest ei kehti.\n",
    "\n",
    "Antud projektis kasutame \n",
    "\n",
    "https://avaandmed.eesti.ee/ \n",
    "\n",
    "andmebaasi.\n",
    "Täpsemalt oleme valinud välja:\n",
    "\n",
    "https://avaandmed.eesti.ee/datasets/tallinna-aadresside-tabelid-asumite-kaupa\n",
    "\n",
    "Ja veelgi täpsemalt valime sealt \"Tallinna aadresside tabelid asumite kaupa 29.11.2015 10 MB (XLSX)\" ehk \"aadressid20151129.xlsx\":\n",
    "\n",
    "https://www.tallinn.ee/est/g21786s99123\n",
    "\n",
    "See ei ole küll kõige uuem, kuid on kõige suurema kirjete arvuga andmebaas mis leitav antud teemal.\n",
    "\n"
   ]
  },
  {
   "cell_type": "markdown",
   "metadata": {
    "id": "nwsgskq7wfJd"
   },
   "source": [
    "# Antmete puhastamine ja sorteerimine"
   ]
  },
  {
   "cell_type": "markdown",
   "metadata": {
    "id": "oUrLOH8IwfJf"
   },
   "source": [
    "Esialgselt on meil 272'075 kirjet. Aga meil on ühe tänava kohta mitu kirjet, näiteks iga maja number. Samas me ei soovi anda tänava nimedele erinevaid kaale meie valimis, lähtuvalt näiteks sellest, kui pikk üks või teine tänav on või kui mitu maja sellele tänavale tänase seisuga ehitatud on. Meie soov on kohelda igat tänava nime võrdselt meie valimis.\n",
    "\n",
    "Seega viskame välja korduvad tänava nimed ja ka majanumbrid."
   ]
  },
  {
   "cell_type": "code",
   "execution_count": 6,
   "metadata": {
    "id": "QWAfjmMBwfJj"
   },
   "outputs": [],
   "source": [
    "from IPython.display import display\n",
    "import matplotlib.pyplot as plt \n",
    "import numpy as np\n",
    "import pandas as pd\n",
    "\n",
    "import os\n",
    "os.chdir(r\"C:\\Users\\Dell\\Desktop\\Programeerimine\\TU - Praktiline andmeteadus\\Kodutood\\koondtoo\")"
   ]
  },
  {
   "cell_type": "code",
   "execution_count": 2,
   "metadata": {},
   "outputs": [
    {
     "name": "stdout",
     "output_type": "stream",
     "text": [
      "                                         Täisaadress        Lähiaadress  \\\n",
      "0  Harju maakond, Tallinn, Haabersti linnaosa, As...         Astangu tn   \n",
      "1  Harju maakond, Tallinn, Haabersti linnaosa, As...       Astangu tn 1   \n",
      "2  Harju maakond, Tallinn, Haabersti linnaosa, As...      Astangu tn 19   \n",
      "3  Harju maakond, Tallinn, Haabersti linnaosa, As...    Astangu tn 19/1   \n",
      "4  Harju maakond, Tallinn, Haabersti linnaosa, As...  Astangu tn 19/1-1   \n",
      "\n",
      "      Asum            Linnaosa           Linn  \n",
      "0  Astangu  Haabersti linnaosa  Tallinna linn  \n",
      "1  Astangu  Haabersti linnaosa  Tallinna linn  \n",
      "2  Astangu  Haabersti linnaosa  Tallinna linn  \n",
      "3  Astangu  Haabersti linnaosa  Tallinna linn  \n",
      "4  Astangu  Haabersti linnaosa  Tallinna linn  \n"
     ]
    }
   ],
   "source": [
    "# Replace 'path_to_excel_file.xlsx' with the path to your Excel file\n",
    "excel_file_path = 'aadressid20151129.xlsx'\n",
    "\n",
    "# Read the Excel file into a DataFrame\n",
    "dataframe = pd.read_excel(excel_file_path)\n",
    "\n",
    "# Display the first few rows of the DataFrame\n",
    "print(dataframe.head())"
   ]
  },
  {
   "cell_type": "markdown",
   "metadata": {},
   "source": [
    "**Salvestame selle arvuti jõudluse parandamiseks CSV formaati.**"
   ]
  },
  {
   "cell_type": "code",
   "execution_count": 3,
   "metadata": {},
   "outputs": [],
   "source": [
    "# Assuming 'dataframe' is the DataFrame you want to save\n",
    "# Replace 'path_to_csv_file.csv' with the path where you want to save the CSV file\n",
    "\n",
    "csv_file_path = '001.csv'\n",
    "\n",
    "# Save the DataFrame to a CSV file with \"|\" as the delimiter\n",
    "dataframe.to_csv(csv_file_path, sep='|', index=False, encoding='utf-8')\n",
    "\n",
    "\n",
    "# The 'index=False' argument is used to prevent pandas from writing row indices into the CSV file.\n"
   ]
  },
  {
   "cell_type": "markdown",
   "metadata": {},
   "source": [
    "**Teeme mälu tühjaks:**"
   ]
  },
  {
   "cell_type": "code",
   "execution_count": 4,
   "metadata": {},
   "outputs": [],
   "source": [
    "del dataframe\n"
   ]
  },
  {
   "cell_type": "markdown",
   "metadata": {},
   "source": [
    "**Loeme oma CSV faili sisse ja töötleme seda natukene:**\n",
    "    "
   ]
  },
  {
   "cell_type": "code",
   "execution_count": 17,
   "metadata": {},
   "outputs": [
    {
     "name": "stdout",
     "output_type": "stream",
     "text": [
      "                                         Täisaadress        Lähiaadress  \\\n",
      "0  Harju maakond, Tallinn, Haabersti linnaosa, As...         Astangu tn   \n",
      "1  Harju maakond, Tallinn, Haabersti linnaosa, As...       Astangu tn 1   \n",
      "2  Harju maakond, Tallinn, Haabersti linnaosa, As...      Astangu tn 19   \n",
      "3  Harju maakond, Tallinn, Haabersti linnaosa, As...    Astangu tn 19/1   \n",
      "4  Harju maakond, Tallinn, Haabersti linnaosa, As...  Astangu tn 19/1-1   \n",
      "\n",
      "      Asum            Linnaosa           Linn  \n",
      "0  Astangu  Haabersti linnaosa  Tallinna linn  \n",
      "1  Astangu  Haabersti linnaosa  Tallinna linn  \n",
      "2  Astangu  Haabersti linnaosa  Tallinna linn  \n",
      "3  Astangu  Haabersti linnaosa  Tallinna linn  \n",
      "4  Astangu  Haabersti linnaosa  Tallinna linn  \n"
     ]
    }
   ],
   "source": [
    "# Replace 'path_to_csv_file.csv' with the path to your CSV file\n",
    "csv_file_path = '001.csv'\n",
    "\n",
    "# Read the CSV file into a DataFrame with \"|\" as the delimiter\n",
    "dataframe = pd.read_csv(csv_file_path, sep='|')\n",
    "\n",
    "# Display the first few rows of the DataFrame\n",
    "print(dataframe.head())"
   ]
  },
  {
   "cell_type": "markdown",
   "metadata": {},
   "source": [
    "sssss"
   ]
  },
  {
   "cell_type": "code",
   "execution_count": 18,
   "metadata": {},
   "outputs": [
    {
     "name": "stdout",
     "output_type": "stream",
     "text": [
      "         Lähiaadress\n",
      "0         Astangu tn\n",
      "1       Astangu tn 1\n",
      "2      Astangu tn 19\n",
      "3    Astangu tn 19/1\n",
      "4  Astangu tn 19/1-1\n"
     ]
    }
   ],
   "source": [
    "# List of columns to be removed\n",
    "columns_to_drop = [\"Täisaadress\", \"Asum\", \"Linnaosa\", \"Linn\"]\n",
    "\n",
    "# Drop the specified columns from the DataFrame\n",
    "df_dropped = dataframe.drop(columns=columns_to_drop)\n",
    "\n",
    "# Display the DataFrame after dropping the columns\n",
    "print(df_dropped.head())"
   ]
  },
  {
   "cell_type": "markdown",
   "metadata": {},
   "source": [
    "Tere"
   ]
  },
  {
   "cell_type": "code",
   "execution_count": null,
   "metadata": {},
   "outputs": [],
   "source": []
  },
  {
   "cell_type": "code",
   "execution_count": 49,
   "metadata": {},
   "outputs": [
    {
     "name": "stdout",
     "output_type": "stream",
     "text": [
      "       Lähiaadress\n",
      "0       Astangu tn\n",
      "2162     Jalami tn\n",
      "2246   Kotermaa tn\n",
      "2271   Moonalao tn\n",
      "2285  Paldiski mnt\n"
     ]
    }
   ],
   "source": [
    "\n",
    "df = df_dropped\n",
    "\n",
    "# Regular expression to match any digits\n",
    "pattern = r'\\d'\n",
    "\n",
    "# Keep rows where 'Lähiaadress' does NOT contain any digit\n",
    "df_filtered = df[~df['Lähiaadress'].str.contains(pattern, na=False)]\n",
    "\n",
    "# Display the filtered DataFrame\n",
    "print(df_filtered.head())"
   ]
  },
  {
   "cell_type": "markdown",
   "metadata": {},
   "source": [
    "Puhastame \"tn\" ja  \"mnt\" nime lõpust:"
   ]
  },
  {
   "cell_type": "code",
   "execution_count": 50,
   "metadata": {},
   "outputs": [
    {
     "name": "stdout",
     "output_type": "stream",
     "text": [
      "0              Astangu\n",
      "2162            Jalami\n",
      "2246          Kotermaa\n",
      "2271          Moonalao\n",
      "2285          Paldiski\n",
      "              ...     \n",
      "270330    Manufaktuuri\n",
      "270342           Niidi\n",
      "270347           Niidi\n",
      "270498        Puuvilla\n",
      "270698           Sitsi\n",
      "Name: Lähiaadress, Length: 2152, dtype: object\n"
     ]
    }
   ],
   "source": [
    "# Assuming df_filtered is a DataFrame created by filtering df\n",
    "\n",
    "# Use regex to replace ' tn' or ' mnt' at the end of the string with an empty string\n",
    "df_filtered.loc[:, 'Lähiaadress'] = df_filtered.loc[:, 'Lähiaadress'].str.replace(r'\\s+(tn|mnt|tänav|põik|pst|puiestee|tee|saar|park|aas|ots|väljak|haljak|käik|õu|aed|plats|vaateplats|turg|kael|järv|jalg|maantee|liivakarjäär|umbtänav|allee|puiestik|tiik|raudteejaam)$', '', regex=True)\n",
    "\n",
    "# Display the modified DataFrame\n",
    "print(df_filtered['Lähiaadress'])"
   ]
  },
  {
   "cell_type": "code",
   "execution_count": null,
   "metadata": {},
   "outputs": [],
   "source": []
  },
  {
   "cell_type": "code",
   "execution_count": 56,
   "metadata": {},
   "outputs": [
    {
     "name": "stdout",
     "output_type": "stream",
     "text": [
      "0              Astangu\n",
      "2162            Jalami\n",
      "2246          Kotermaa\n",
      "2271          Moonalao\n",
      "2285          Paldiski\n",
      "              ...     \n",
      "270330    Manufaktuuri\n",
      "270342           Niidi\n",
      "270347           Niidi\n",
      "270498        Puuvilla\n",
      "270698           Sitsi\n",
      "Name: Lähiaadress, Length: 2152, dtype: object\n"
     ]
    }
   ],
   "source": [
    "# Use regex to replace the pattern 'single letter followed by a period and a space' with an empty string\n",
    "df_filtered.loc[:, 'Lähiaadress'] = df_filtered.loc[:, 'Lähiaadress'].str.replace(r'\\b\\w\\. ', '', regex=True)\n",
    "\n",
    "# Display the modified DataFrame\n",
    "print(df_filtered['Lähiaadress'])"
   ]
  },
  {
   "cell_type": "code",
   "execution_count": null,
   "metadata": {},
   "outputs": [],
   "source": []
  },
  {
   "cell_type": "code",
   "execution_count": 57,
   "metadata": {},
   "outputs": [
    {
     "name": "stdout",
     "output_type": "stream",
     "text": [
      "0              Astangu\n",
      "2162            Jalami\n",
      "2246          Kotermaa\n",
      "2271          Moonalao\n",
      "2285          Paldiski\n",
      "              ...     \n",
      "270330    Manufaktuuri\n",
      "270342           Niidi\n",
      "270347           Niidi\n",
      "270498        Puuvilla\n",
      "270698           Sitsi\n",
      "Name: Lähiaadress, Length: 2152, dtype: object\n"
     ]
    }
   ],
   "source": [
    "# Use regex to replace the pattern 'single letter followed by a period' with an empty string\n",
    "df_filtered.loc[:, 'Lähiaadress'] = df_filtered.loc[:, 'Lähiaadress'].str.replace(r'\\b\\w\\.', '', regex=True)\n",
    "\n",
    "# Display the modified DataFrame\n",
    "print(df_filtered['Lähiaadress'])"
   ]
  },
  {
   "cell_type": "code",
   "execution_count": null,
   "metadata": {},
   "outputs": [],
   "source": []
  },
  {
   "cell_type": "code",
   "execution_count": null,
   "metadata": {},
   "outputs": [],
   "source": []
  },
  {
   "cell_type": "code",
   "execution_count": 58,
   "metadata": {},
   "outputs": [
    {
     "name": "stdout",
     "output_type": "stream",
     "text": [
      "                                              Lähiaadress\n",
      "6666    Harku järve kaldaala (end.) Järve-Männiku kinn...\n",
      "6760               Keskküla tänava ja Reha tänava maa-ala\n",
      "7299                                        Oja tn lõik A\n",
      "8673                                        Rocca al Mare\n",
      "9442                                        Roostiku tn C\n",
      "10400            Jõeküla tee lõik Lemle ja Abara tn vahel\n",
      "10471         Jõeoti tn lõik Tiskre tee ja Abara tn vahel\n",
      "12190                               Haabersti liiklussõlm\n",
      "16202                               Väike-Õismäe puhkeala\n",
      "25944                                            Umboja A\n",
      "27723                                         August Alle\n",
      "28057                         Ferdinand Johann Wiedemanni\n",
      "29516                                       Johann Köleri\n",
      "41397                                   Järvevana ülesõit\n",
      "42332                               Pärnu maantee viadukt\n",
      "44196                                     Eduard Viiralti\n",
      "46981                            Tornimäe tänava pikendus\n",
      "50376                                      Rudolf Tobiase\n",
      "52093                                  Kaljase tänav/Koge\n",
      "55422                                        Ants Lauteri\n",
      "56880                                          Georg Otsa\n",
      "58293                                         Peeter Süda\n",
      "61293                                    Johannes Kappeli\n",
      "61567                                Karl August Hermanni\n",
      "67048                                         Uue Maailma\n",
      "67330                                         Uue Maailma\n",
      "71368                                     Suur Rannavärav\n",
      "71369                                     Suur Rannavärav\n",
      "71652                                       Taani Kuninga\n",
      "72966                                    Väike Rannavärav\n",
      "72967                                    Väike Rannavärav\n",
      "80504                              Hipodroomi liiklussõlm\n",
      "140631  Laagna tee ja Peterburi tee vahel asuv Rahu te...\n",
      "193920  Sõpruse pst lõik Tammsaare tee ja Vilde tee vahel\n",
      "195708  Sõpruse pst lõik Tildri tn ja Tammsaare tee vahel\n",
      "205372  Vanemuise tänava lõik Ugala tn ja Olevi tn vah...\n",
      "210316  Valdeku tn lõik Männiku tee ja raudtee ülesõid...\n",
      "211770                                         von Glehni\n",
      "211774                                         von Glehni\n",
      "216782  Pärnu mnt lõik Pääsküla raudteeületuskoha ja l...\n",
      "216783                              Pääsküla raudteejaama\n",
      "220693                                   Väikese Illimari\n",
      "222102                                      Ernst Särgava\n",
      "222228                 Hunditubaka tee/Pune tee/Karukella\n",
      "228790                  Haljasala maa-ala Mähe tee kõrval\n",
      "232895                                    Pirita rannaala\n",
      "247379                                 Kopli kalmistupark\n",
      "250550                                   Stroomi rannaala\n",
      "251087                                 Pikakari supelrand\n",
      "263872    Lõime tänava lõik Sõle ja Randla tänavate vahel\n"
     ]
    }
   ],
   "source": [
    "# Assuming 'df_filtered' is your pandas DataFrame\n",
    "\n",
    "# Create a boolean mask where 'Lähiaadress' contains a space, treating NaN values as False\n",
    "mask = df_filtered['Lähiaadress'].str.contains(' ', na=False)\n",
    "\n",
    "# Use the mask to filter the DataFrame\n",
    "rows_with_space = df_filtered[mask]\n",
    "\n",
    "# Display the rows where 'Lähiaadress' contains a space\n",
    "print(rows_with_space)"
   ]
  },
  {
   "cell_type": "code",
   "execution_count": null,
   "metadata": {},
   "outputs": [],
   "source": []
  },
  {
   "cell_type": "code",
   "execution_count": 59,
   "metadata": {},
   "outputs": [
    {
     "name": "stdout",
     "output_type": "stream",
     "text": [
      "         Lähiaadress\n",
      "0            Astangu\n",
      "2162          Jalami\n",
      "2246        Kotermaa\n",
      "2271        Moonalao\n",
      "2285        Paldiski\n",
      "...              ...\n",
      "270330  Manufaktuuri\n",
      "270342         Niidi\n",
      "270347         Niidi\n",
      "270498      Puuvilla\n",
      "270698         Sitsi\n",
      "\n",
      "[2102 rows x 1 columns]\n"
     ]
    }
   ],
   "source": [
    "\n",
    "# Assuming 'df_filtered' is your pandas DataFrame\n",
    "\n",
    "# Create a boolean mask where 'Lähiaadress' contains a space\n",
    "mask = df_filtered['Lähiaadress'].str.contains(' ', na=False)\n",
    "\n",
    "# Drop rows where 'Lähiaadress' contains a space by inverting the mask\n",
    "df_filtered = df_filtered[~mask]\n",
    "\n",
    "# Display the DataFrame after dropping the rows\n",
    "print(df_filtered)"
   ]
  },
  {
   "cell_type": "code",
   "execution_count": null,
   "metadata": {},
   "outputs": [],
   "source": []
  },
  {
   "cell_type": "code",
   "execution_count": 61,
   "metadata": {},
   "outputs": [
    {
     "name": "stdout",
     "output_type": "stream",
     "text": [
      "       Lähiaadress\n",
      "251088       Aarde\n",
      "63489         Aasa\n",
      "210495        Aate\n",
      "222079       Abaja\n",
      "10297        Abara\n",
      "...            ...\n",
      "160917         NaN\n",
      "193939         NaN\n",
      "214120         NaN\n",
      "233061         NaN\n",
      "242016         NaN\n",
      "\n",
      "[2102 rows x 1 columns]\n"
     ]
    }
   ],
   "source": [
    "# Sort 'df_filtered' by 'Lähiaadress' in ascending order\n",
    "df_filtered = df_filtered.sort_values(by='Lähiaadress', ascending=True)\n",
    "\n",
    "# Display the sorted DataFrame\n",
    "print(df_filtered)"
   ]
  },
  {
   "cell_type": "code",
   "execution_count": null,
   "metadata": {},
   "outputs": [],
   "source": []
  },
  {
   "cell_type": "code",
   "execution_count": 63,
   "metadata": {},
   "outputs": [
    {
     "name": "stdout",
     "output_type": "stream",
     "text": [
      "        Lähiaadress\n",
      "251088        Aarde\n",
      "63489          Aasa\n",
      "210495         Aate\n",
      "222079        Abaja\n",
      "10297         Abara\n",
      "...             ...\n",
      "96066         Ülase\n",
      "76670      Ülemiste\n",
      "193936  Üliõpilaste\n",
      "149526        Ümera\n",
      "25193           NaN\n",
      "\n",
      "[1470 rows x 1 columns]\n"
     ]
    }
   ],
   "source": [
    "# Drop duplicates in 'Lähiaadress' column, keeping the first occurrence and dropping the consecutive duplicates\n",
    "df_filtered = df_filtered.drop_duplicates(subset='Lähiaadress', keep='first')\n",
    "\n",
    "# Display the DataFrame after dropping the duplicates\n",
    "print(df_filtered)"
   ]
  },
  {
   "cell_type": "code",
   "execution_count": null,
   "metadata": {},
   "outputs": [],
   "source": []
  },
  {
   "cell_type": "code",
   "execution_count": 70,
   "metadata": {},
   "outputs": [
    {
     "name": "stdout",
     "output_type": "stream",
     "text": [
      "        Lähiaadress\n",
      "251088        Aarde\n",
      "63489          Aasa\n",
      "210495         Aate\n",
      "222079        Abaja\n",
      "10297         Abara\n",
      "...             ...\n",
      "96066         Ülase\n",
      "76670      Ülemiste\n",
      "193936  Üliõpilaste\n",
      "149526        Ümera\n",
      "25193           NaN\n",
      "\n",
      "[1470 rows x 1 columns]\n"
     ]
    }
   ],
   "source": [
    "# Assuming 'df_filtered' is your pandas DataFrame\n",
    "\n",
    "# Create a boolean mask where 'Lähiaadress' is not empty and not equal to '\"\"'\n",
    "mask = (df_filtered['Lähiaadress'].astype(str) != '') & (df_filtered['Lähiaadress'].astype(str) != '\"\"')\n",
    "\n",
    "# Use the mask to filter the DataFrame\n",
    "df_filtered = df_filtered[mask]\n",
    "\n",
    "# Display the DataFrame after removing the specified rows\n",
    "print(df_filtered)"
   ]
  },
  {
   "cell_type": "code",
   "execution_count": null,
   "metadata": {},
   "outputs": [],
   "source": []
  },
  {
   "cell_type": "code",
   "execution_count": 71,
   "metadata": {},
   "outputs": [],
   "source": [
    "# Assuming 'dataframe' is the DataFrame you want to save\n",
    "# Replace 'path_to_csv_file.csv' with the path where you want to save the CSV file\n",
    "\n",
    "csv_file_path = '002.csv'\n",
    "\n",
    "# Save the DataFrame to a CSV file with \"|\" as the delimiter\n",
    "df_filtered.to_csv(csv_file_path, sep='|', index=False, encoding='utf-8')\n",
    "\n",
    "# The 'index=False' argument is used to prevent pandas from writing row indices into the CSV file."
   ]
  },
  {
   "cell_type": "markdown",
   "metadata": {},
   "source": [
    "Näeme, et meil jäi alles 1470 kirjet. Seda pole just palju. Võiks ju terve eesti tänavanimee peale seda uuringut laiendada, aga ei tea sellise andmebaasi olemasolu hetkel. Samas tulevikus võib alati asja edasi arendada."
   ]
  },
  {
   "cell_type": "code",
   "execution_count": null,
   "metadata": {},
   "outputs": [],
   "source": []
  },
  {
   "cell_type": "markdown",
   "metadata": {
    "id": "sFuuZLiswfJu"
   },
   "source": [
    "### Loeme tähed üle\n",
    "\n",
    "Selleks kõigepealt lööme sõnad tähtedeks ja loeme ka sõna pikkused üle."
   ]
  },
  {
   "cell_type": "code",
   "execution_count": null,
   "metadata": {},
   "outputs": [],
   "source": []
  },
  {
   "cell_type": "code",
   "execution_count": 7,
   "metadata": {},
   "outputs": [
    {
     "name": "stdout",
     "output_type": "stream",
     "text": [
      "  Lähiaadress\n",
      "0       Aarde\n",
      "1        Aasa\n",
      "2        Aate\n",
      "3       Abaja\n",
      "4       Abara\n"
     ]
    }
   ],
   "source": [
    "# Replace 'path_to_csv_file.csv' with the path to your CSV file\n",
    "csv_file_path = '002.csv'\n",
    "\n",
    "# Read the CSV file into a DataFrame with \"|\" as the delimiter\n",
    "df3 = pd.read_csv(csv_file_path, sep='|')\n",
    "\n",
    "# Display the first few rows of the DataFrame\n",
    "print(df3.head())"
   ]
  },
  {
   "cell_type": "code",
   "execution_count": null,
   "metadata": {},
   "outputs": [],
   "source": []
  },
  {
   "cell_type": "code",
   "execution_count": 8,
   "metadata": {
    "scrolled": true
   },
   "outputs": [
    {
     "name": "stdout",
     "output_type": "stream",
     "text": [
      "      Lähiaadress  Pikkus  A  B  C  D  E  F  G  H  ...  T  U  V  W  Õ  Ä  Ö  \\\n",
      "0           Aarde       5  2  0  0  1  1  0  0  0  ...  0  0  0  0  0  0  0   \n",
      "1            Aasa       4  3  0  0  0  0  0  0  0  ...  0  0  0  0  0  0  0   \n",
      "2            Aate       4  2  0  0  0  1  0  0  0  ...  1  0  0  0  0  0  0   \n",
      "3           Abaja       5  3  1  0  0  0  0  0  0  ...  0  0  0  0  0  0  0   \n",
      "4           Abara       5  3  1  0  0  0  0  0  0  ...  0  0  0  0  0  0  0   \n",
      "...           ...     ... .. .. .. .. .. .. .. ..  ... .. .. .. .. .. .. ..   \n",
      "1464       Öölase       6  1  0  0  0  1  0  0  0  ...  0  0  0  0  0  0  2   \n",
      "1465        Ülase       5  1  0  0  0  1  0  0  0  ...  0  0  0  0  0  0  0   \n",
      "1466     Ülemiste       8  0  0  0  0  2  0  0  0  ...  1  0  0  0  0  0  0   \n",
      "1467  Üliõpilaste      11  1  0  0  0  1  0  0  0  ...  1  0  0  0  1  0  0   \n",
      "1468        Ümera       5  1  0  0  0  1  0  0  0  ...  0  0  0  0  0  0  0   \n",
      "\n",
      "      Ü  X  Y  \n",
      "0     0  0  0  \n",
      "1     0  0  0  \n",
      "2     0  0  0  \n",
      "3     0  0  0  \n",
      "4     0  0  0  \n",
      "...  .. .. ..  \n",
      "1464  0  0  0  \n",
      "1465  1  0  0  \n",
      "1466  1  0  0  \n",
      "1467  1  0  0  \n",
      "1468  1  0  0  \n",
      "\n",
      "[1469 rows x 34 columns]\n"
     ]
    }
   ],
   "source": [
    "# Assuming 'df3' is your pandas DataFrame with only one column 'Lähiaadress'\n",
    "\n",
    "# List of new columns to be added, including 'Pikkus' for length\n",
    "new_columns = ['Pikkus', 'A', 'B', 'C', 'D', 'E', 'F', 'G', 'H', 'I', 'J', 'K', 'L', 'M', 'N', 'O', 'P', 'Q', 'R', 'S', 'Š',\n",
    "               'Z', 'Ž', 'T', 'U', 'V', 'W', 'Õ', 'Ä', 'Ö', 'Ü', 'X', 'Y']\n",
    "\n",
    "# Initialize the new columns with default value 0\n",
    "for column in new_columns:\n",
    "    df3[column] = 0\n",
    "\n",
    "# Define a function to count the occurrences of each character\n",
    "def count_chars(word):\n",
    "    if pd.isnull(word):  # Check if the entry is NaN\n",
    "        return {}\n",
    "    char_count = {}\n",
    "    word = str(word).upper()  # Convert to string and upper case to make the search case-insensitive\n",
    "    for char in word:\n",
    "        if char in new_columns:\n",
    "            if char in char_count:\n",
    "                char_count[char] += 1\n",
    "            else:\n",
    "                char_count[char] = 1\n",
    "    return char_count\n",
    "\n",
    "# Iterate over each row and count the occurrences of each letter\n",
    "for index, row in df3.iterrows():\n",
    "    address = row['Lähiaadress']\n",
    "    # Count the characters in 'Lähiaadress'\n",
    "    counts = count_chars(address)\n",
    "    # Assign the length of 'Lähiaadress' to 'Pikkus' handling NaN separately\n",
    "    df3.at[index, 'Pikkus'] = len(address) if pd.notnull(address) else 0\n",
    "    # Assign the counts to the respective columns\n",
    "    for char, count in counts.items():\n",
    "        df3.at[index, char] = count\n",
    "\n",
    "# Display the DataFrame with the new columns\n",
    "print(df3)"
   ]
  },
  {
   "cell_type": "code",
   "execution_count": null,
   "metadata": {},
   "outputs": [],
   "source": []
  },
  {
   "cell_type": "code",
   "execution_count": 9,
   "metadata": {},
   "outputs": [],
   "source": [
    "# Assuming 'dataframe' is the DataFrame you want to save\n",
    "# Replace 'path_to_csv_file.csv' with the path where you want to save the CSV file\n",
    "\n",
    "csv_file_path = '003.csv'\n",
    "\n",
    "# Save the DataFrame to a CSV file with \"|\" as the delimiter\n",
    "df3.to_csv(csv_file_path, sep='|', index=False, encoding='utf-8')\n",
    "\n",
    "# The 'index=False' argument is used to prevent pandas from writing row indices into the CSV file."
   ]
  },
  {
   "cell_type": "code",
   "execution_count": null,
   "metadata": {},
   "outputs": [],
   "source": []
  },
  {
   "cell_type": "markdown",
   "metadata": {},
   "source": [
    "Loeme kokku tähed"
   ]
  },
  {
   "cell_type": "code",
   "execution_count": 10,
   "metadata": {
    "scrolled": true
   },
   "outputs": [
    {
     "data": {
      "text/html": [
       "<div>\n",
       "<style scoped>\n",
       "    .dataframe tbody tr th:only-of-type {\n",
       "        vertical-align: middle;\n",
       "    }\n",
       "\n",
       "    .dataframe tbody tr th {\n",
       "        vertical-align: top;\n",
       "    }\n",
       "\n",
       "    .dataframe thead th {\n",
       "        text-align: right;\n",
       "    }\n",
       "</style>\n",
       "<table border=\"1\" class=\"dataframe\">\n",
       "  <thead>\n",
       "    <tr style=\"text-align: right;\">\n",
       "      <th></th>\n",
       "      <th>A</th>\n",
       "      <th>B</th>\n",
       "      <th>C</th>\n",
       "      <th>D</th>\n",
       "      <th>E</th>\n",
       "      <th>F</th>\n",
       "      <th>G</th>\n",
       "      <th>H</th>\n",
       "      <th>I</th>\n",
       "      <th>J</th>\n",
       "      <th>...</th>\n",
       "      <th>T</th>\n",
       "      <th>U</th>\n",
       "      <th>V</th>\n",
       "      <th>W</th>\n",
       "      <th>Õ</th>\n",
       "      <th>Ä</th>\n",
       "      <th>Ö</th>\n",
       "      <th>Ü</th>\n",
       "      <th>X</th>\n",
       "      <th>Y</th>\n",
       "    </tr>\n",
       "  </thead>\n",
       "  <tbody>\n",
       "    <tr>\n",
       "      <th>0</th>\n",
       "      <td>1396</td>\n",
       "      <td>96</td>\n",
       "      <td>0</td>\n",
       "      <td>183</td>\n",
       "      <td>914</td>\n",
       "      <td>8</td>\n",
       "      <td>127</td>\n",
       "      <td>190</td>\n",
       "      <td>1087</td>\n",
       "      <td>146</td>\n",
       "      <td>...</td>\n",
       "      <td>384</td>\n",
       "      <td>688</td>\n",
       "      <td>341</td>\n",
       "      <td>4</td>\n",
       "      <td>130</td>\n",
       "      <td>197</td>\n",
       "      <td>23</td>\n",
       "      <td>58</td>\n",
       "      <td>0</td>\n",
       "      <td>0</td>\n",
       "    </tr>\n",
       "  </tbody>\n",
       "</table>\n",
       "<p>1 rows × 32 columns</p>\n",
       "</div>"
      ],
      "text/plain": [
       "      A   B  C    D    E  F    G    H     I    J  ...    T    U    V  W    Õ  \\\n",
       "0  1396  96  0  183  914  8  127  190  1087  146  ...  384  688  341  4  130   \n",
       "\n",
       "     Ä   Ö   Ü  X  Y  \n",
       "0  197  23  58  0  0  \n",
       "\n",
       "[1 rows x 32 columns]"
      ]
     },
     "execution_count": 10,
     "metadata": {},
     "output_type": "execute_result"
    }
   ],
   "source": [
    "\n",
    "# Assuming 'df3' is your DataFrame and it has been properly loaded with the necessary data\n",
    "\n",
    "# Define the columns that we want to sum up, excluding 'Lähiaadress' and 'Pikkus'\n",
    "columns_to_sum = [\n",
    "    'A', 'B', 'C', 'D', 'E', 'F', 'G', 'H', 'I', 'J', 'K', 'L', 'M', 'N', 'O',\n",
    "    'P', 'Q', 'R', 'S', 'Š', 'Z', 'Ž', 'T', 'U', 'V', 'W', 'Õ', 'Ä', 'Ö', 'Ü',\n",
    "    'X', 'Y'\n",
    "]\n",
    "\n",
    "# Sum up the specified columns and create a new dataframe df11 with the result\n",
    "df11 = pd.DataFrame(df3[columns_to_sum].sum()).transpose()\n",
    "df11.columns = columns_to_sum\n",
    "\n",
    "# Display the dataframe\n",
    "df11"
   ]
  },
  {
   "cell_type": "code",
   "execution_count": null,
   "metadata": {},
   "outputs": [],
   "source": []
  },
  {
   "cell_type": "code",
   "execution_count": null,
   "metadata": {},
   "outputs": [],
   "source": []
  },
  {
   "cell_type": "code",
   "execution_count": null,
   "metadata": {},
   "outputs": [],
   "source": []
  },
  {
   "cell_type": "code",
   "execution_count": 11,
   "metadata": {},
   "outputs": [
    {
     "data": {
      "text/html": [
       "<div>\n",
       "<style scoped>\n",
       "    .dataframe tbody tr th:only-of-type {\n",
       "        vertical-align: middle;\n",
       "    }\n",
       "\n",
       "    .dataframe tbody tr th {\n",
       "        vertical-align: top;\n",
       "    }\n",
       "\n",
       "    .dataframe thead th {\n",
       "        text-align: right;\n",
       "    }\n",
       "</style>\n",
       "<table border=\"1\" class=\"dataframe\">\n",
       "  <thead>\n",
       "    <tr style=\"text-align: right;\">\n",
       "      <th></th>\n",
       "      <th>A</th>\n",
       "      <th>B</th>\n",
       "      <th>C</th>\n",
       "      <th>D</th>\n",
       "      <th>E</th>\n",
       "      <th>F</th>\n",
       "      <th>G</th>\n",
       "      <th>H</th>\n",
       "      <th>I</th>\n",
       "      <th>J</th>\n",
       "      <th>...</th>\n",
       "      <th>T</th>\n",
       "      <th>U</th>\n",
       "      <th>V</th>\n",
       "      <th>W</th>\n",
       "      <th>Õ</th>\n",
       "      <th>Ä</th>\n",
       "      <th>Ö</th>\n",
       "      <th>Ü</th>\n",
       "      <th>X</th>\n",
       "      <th>Y</th>\n",
       "    </tr>\n",
       "  </thead>\n",
       "  <tbody>\n",
       "    <tr>\n",
       "      <th>0</th>\n",
       "      <td>907</td>\n",
       "      <td>93</td>\n",
       "      <td>0</td>\n",
       "      <td>181</td>\n",
       "      <td>670</td>\n",
       "      <td>8</td>\n",
       "      <td>126</td>\n",
       "      <td>186</td>\n",
       "      <td>811</td>\n",
       "      <td>146</td>\n",
       "      <td>...</td>\n",
       "      <td>357</td>\n",
       "      <td>549</td>\n",
       "      <td>319</td>\n",
       "      <td>4</td>\n",
       "      <td>124</td>\n",
       "      <td>172</td>\n",
       "      <td>15</td>\n",
       "      <td>50</td>\n",
       "      <td>0</td>\n",
       "      <td>0</td>\n",
       "    </tr>\n",
       "  </tbody>\n",
       "</table>\n",
       "<p>1 rows × 32 columns</p>\n",
       "</div>"
      ],
      "text/plain": [
       "     A   B  C    D    E  F    G    H    I    J  ...    T    U    V  W    Õ  \\\n",
       "0  907  93  0  181  670  8  126  186  811  146  ...  357  549  319  4  124   \n",
       "\n",
       "     Ä   Ö   Ü  X  Y  \n",
       "0  172  15  50  0  0  \n",
       "\n",
       "[1 rows x 32 columns]"
      ]
     },
     "execution_count": 11,
     "metadata": {},
     "output_type": "execute_result"
    }
   ],
   "source": [
    "# List of columns to sum up, which excludes 'Lähiaadress' and 'Pikkus'\n",
    "#columns_to_sum = df3.columns.difference(['Lähiaadress', 'Pikkus', 'boolean_sum'])\n",
    "\n",
    "# Define the columns that we want to sum up, excluding 'Lähiaadress' and 'Pikkus'\n",
    "columns_to_sum = [\n",
    "    'A', 'B', 'C', 'D', 'E', 'F', 'G', 'H', 'I', 'J', 'K', 'L', 'M', 'N', 'O',\n",
    "    'P', 'Q', 'R', 'S', 'Š', 'Z', 'Ž', 'T', 'U', 'V', 'W', 'Õ', 'Ä', 'Ö', 'Ü',\n",
    "    'X', 'Y'\n",
    "]\n",
    "\n",
    "\n",
    "# Convert all positive values in these columns to 1, and 0 stays as 0\n",
    "boolean_df = df3[columns_to_sum].gt(0).astype(int)\n",
    "\n",
    "# Sum up the boolean values for each column\n",
    "sums = boolean_df.sum()\n",
    "\n",
    "# Create a new dataframe 'df12' with these summed values\n",
    "df12 = pd.DataFrame([sums], columns=columns_to_sum)\n",
    "\n",
    "df12  # Displaying the resulting dataframe 'df12'"
   ]
  },
  {
   "cell_type": "code",
   "execution_count": null,
   "metadata": {},
   "outputs": [],
   "source": []
  },
  {
   "cell_type": "code",
   "execution_count": 12,
   "metadata": {},
   "outputs": [],
   "source": [
    "csv_file_path = '011.csv'\n",
    "df11.to_csv(csv_file_path, sep='|', index=False, encoding='utf-8')\n",
    "\n",
    "csv_file_path = '012.csv'\n",
    "df12.to_csv(csv_file_path, sep='|', index=False, encoding='utf-8')"
   ]
  },
  {
   "cell_type": "code",
   "execution_count": null,
   "metadata": {},
   "outputs": [],
   "source": []
  },
  {
   "cell_type": "code",
   "execution_count": 13,
   "metadata": {},
   "outputs": [
    {
     "data": {
      "image/png": "[encoded data removed]",
      "text/plain": [
       "<Figure size 2000x1000 with 1 Axes>"
      ]
     },
     "metadata": {},
     "output_type": "display_data"
    }
   ],
   "source": [
    "import matplotlib.pyplot as plt\n",
    "\n",
    "# Since df12 has a single row, we'll select that row for plotting\n",
    "row_for_plotting = df11.iloc[0]\n",
    "\n",
    "# Create a bar plot using the data\n",
    "plt.figure(figsize=(20, 10))  # Adjust the size as needed\n",
    "row_for_plotting.plot(kind='bar', color='skyblue')\n",
    "\n",
    "# Set the title and labels\n",
    "plt.title('Sum of Values per Column')\n",
    "plt.xlabel('Columns')\n",
    "plt.ylabel('Sum of Values')\n",
    "\n",
    "# Rotate the x-axis labels for better readability\n",
    "plt.xticks(rotation=90)\n",
    "\n",
    "# Show the plot\n",
    "plt.show()"
   ]
  },
  {
   "cell_type": "code",
   "execution_count": null,
   "metadata": {},
   "outputs": [],
   "source": []
  },
  {
   "cell_type": "code",
   "execution_count": 14,
   "metadata": {},
   "outputs": [
    {
     "data": {
      "image/png": "[encoded data removed]",
      "text/plain": [
       "<Figure size 2000x1000 with 1 Axes>"
      ]
     },
     "metadata": {},
     "output_type": "display_data"
    }
   ],
   "source": [
    "import matplotlib.pyplot as plt\n",
    "\n",
    "# Since df12 has a single row, we'll select that row for plotting\n",
    "row_for_plotting = df12.iloc[0]\n",
    "\n",
    "# Create a bar plot using the data\n",
    "plt.figure(figsize=(20, 10))  # Adjust the size as needed\n",
    "row_for_plotting.plot(kind='bar', color='skyblue')\n",
    "\n",
    "# Set the title and labels\n",
    "plt.title('Sum of Boolean Values per Column')\n",
    "plt.xlabel('Columns')\n",
    "plt.ylabel('Sum of Boolean Values')\n",
    "\n",
    "# Rotate the x-axis labels for better readability\n",
    "plt.xticks(rotation=90)\n",
    "\n",
    "# Show the plot\n",
    "plt.show()"
   ]
  },
  {
   "cell_type": "code",
   "execution_count": null,
   "metadata": {},
   "outputs": [],
   "source": []
  },
  {
   "cell_type": "code",
   "execution_count": null,
   "metadata": {},
   "outputs": [],
   "source": []
  },
  {
   "cell_type": "code",
   "execution_count": null,
   "metadata": {},
   "outputs": [],
   "source": []
  },
  {
   "cell_type": "code",
   "execution_count": 15,
   "metadata": {},
   "outputs": [
    {
     "data": {
      "text/html": [
       "<div>\n",
       "<style scoped>\n",
       "    .dataframe tbody tr th:only-of-type {\n",
       "        vertical-align: middle;\n",
       "    }\n",
       "\n",
       "    .dataframe tbody tr th {\n",
       "        vertical-align: top;\n",
       "    }\n",
       "\n",
       "    .dataframe thead th {\n",
       "        text-align: right;\n",
       "    }\n",
       "</style>\n",
       "<table border=\"1\" class=\"dataframe\">\n",
       "  <thead>\n",
       "    <tr style=\"text-align: right;\">\n",
       "      <th></th>\n",
       "      <th>Y</th>\n",
       "      <th>Š</th>\n",
       "      <th>X</th>\n",
       "      <th>W</th>\n",
       "      <th>F</th>\n",
       "      <th>Ü</th>\n",
       "      <th>G</th>\n",
       "      <th>J</th>\n",
       "      <th>H</th>\n",
       "      <th>P</th>\n",
       "      <th>...</th>\n",
       "      <th>O</th>\n",
       "      <th>Ä</th>\n",
       "      <th>D</th>\n",
       "      <th>Õ</th>\n",
       "      <th>B</th>\n",
       "      <th>Ö</th>\n",
       "      <th>Z</th>\n",
       "      <th>Ž</th>\n",
       "      <th>Q</th>\n",
       "      <th>C</th>\n",
       "    </tr>\n",
       "  </thead>\n",
       "  <tbody>\n",
       "    <tr>\n",
       "      <th>0</th>\n",
       "      <td>0</td>\n",
       "      <td>0</td>\n",
       "      <td>0</td>\n",
       "      <td>4</td>\n",
       "      <td>8</td>\n",
       "      <td>58</td>\n",
       "      <td>127</td>\n",
       "      <td>146</td>\n",
       "      <td>190</td>\n",
       "      <td>258</td>\n",
       "      <td>...</td>\n",
       "      <td>308</td>\n",
       "      <td>197</td>\n",
       "      <td>183</td>\n",
       "      <td>130</td>\n",
       "      <td>96</td>\n",
       "      <td>23</td>\n",
       "      <td>4</td>\n",
       "      <td>2</td>\n",
       "      <td>0</td>\n",
       "      <td>0</td>\n",
       "    </tr>\n",
       "  </tbody>\n",
       "</table>\n",
       "<p>1 rows × 32 columns</p>\n",
       "</div>"
      ],
      "text/plain": [
       "   Y  Š  X  W  F   Ü    G    J    H    P  ...    O    Ä    D    Õ   B   Ö  Z  \\\n",
       "0  0  0  0  4  8  58  127  146  190  258  ...  308  197  183  130  96  23  4   \n",
       "\n",
       "   Ž  Q  C  \n",
       "0  2  0  0  \n",
       "\n",
       "[1 rows x 32 columns]"
      ]
     },
     "execution_count": 15,
     "metadata": {},
     "output_type": "execute_result"
    }
   ],
   "source": [
    "# Assuming df12 is already created and is available in the environment\n",
    "# We will first sort the values in df12 in descending order\n",
    "sorted_values = df11.iloc[0].sort_values(ascending=False)\n",
    "\n",
    "# Extract the sorted column names\n",
    "sorted_column_names = sorted_values.index.tolist()\n",
    "\n",
    "# Split the sorted column names into two halves\n",
    "first_half = sorted_column_names[1::2]  # This will be placed on the left side (in reverse order)\n",
    "second_half = sorted_column_names[::2]  # This will be placed on the right side\n",
    "\n",
    "# Reverse the first half to start with the second highest value\n",
    "first_half = first_half[::-1]\n",
    "\n",
    "# Calculate the middle index\n",
    "middle_index = len(sorted_column_names) // 2\n",
    "\n",
    "# Initialize a list for the new column order\n",
    "new_column_order = [None] * len(sorted_column_names)\n",
    "\n",
    "# Place the first half in reverse order to the left side of the middle index\n",
    "new_column_order[middle_index - len(first_half): middle_index] = first_half\n",
    "\n",
    "# Place the second half in order to the right side of the middle index\n",
    "new_column_order[middle_index: middle_index + len(second_half)] = second_half\n",
    "\n",
    "# Filter out any None values that may have been inserted in the new_column_order list\n",
    "new_column_order = [col for col in new_column_order if col is not None]\n",
    "\n",
    "# Create the new dataframe df21 with columns ordered as specified\n",
    "df21 = df11[new_column_order]\n",
    "\n",
    "# Display the new dataframe df21\n",
    "df21\n"
   ]
  },
  {
   "cell_type": "code",
   "execution_count": null,
   "metadata": {},
   "outputs": [],
   "source": []
  },
  {
   "cell_type": "code",
   "execution_count": 16,
   "metadata": {},
   "outputs": [
    {
     "data": {
      "image/png": "[encoded data removed]",
      "text/plain": [
       "<Figure size 2000x1000 with 1 Axes>"
      ]
     },
     "metadata": {},
     "output_type": "display_data"
    }
   ],
   "source": [
    "# Since df21 has a single row, we'll select that row for plotting\n",
    "row_for_plotting = df21.iloc[0]\n",
    "\n",
    "# Create a bar plot using the data\n",
    "plt.figure(figsize=(20, 10))  # Adjust the size as needed\n",
    "row_for_plotting.plot(kind='bar', color='skyblue')\n",
    "\n",
    "# Set the title and labels\n",
    "plt.title('Sum of Values per Column')\n",
    "plt.xlabel('Columns')\n",
    "plt.ylabel('Sum of Boolean Values')\n",
    "\n",
    "# Rotate the x-axis labels for better readability\n",
    "plt.xticks(rotation=90)\n",
    "\n",
    "# Show the plot\n",
    "plt.show()"
   ]
  },
  {
   "cell_type": "code",
   "execution_count": null,
   "metadata": {},
   "outputs": [],
   "source": []
  },
  {
   "cell_type": "code",
   "execution_count": 17,
   "metadata": {},
   "outputs": [
    {
     "data": {
      "text/html": [
       "<div>\n",
       "<style scoped>\n",
       "    .dataframe tbody tr th:only-of-type {\n",
       "        vertical-align: middle;\n",
       "    }\n",
       "\n",
       "    .dataframe tbody tr th {\n",
       "        vertical-align: top;\n",
       "    }\n",
       "\n",
       "    .dataframe thead th {\n",
       "        text-align: right;\n",
       "    }\n",
       "</style>\n",
       "<table border=\"1\" class=\"dataframe\">\n",
       "  <thead>\n",
       "    <tr style=\"text-align: right;\">\n",
       "      <th></th>\n",
       "      <th>Y</th>\n",
       "      <th>Š</th>\n",
       "      <th>X</th>\n",
       "      <th>W</th>\n",
       "      <th>F</th>\n",
       "      <th>Ü</th>\n",
       "      <th>Õ</th>\n",
       "      <th>J</th>\n",
       "      <th>D</th>\n",
       "      <th>O</th>\n",
       "      <th>...</th>\n",
       "      <th>P</th>\n",
       "      <th>H</th>\n",
       "      <th>Ä</th>\n",
       "      <th>G</th>\n",
       "      <th>B</th>\n",
       "      <th>Ö</th>\n",
       "      <th>Z</th>\n",
       "      <th>Ž</th>\n",
       "      <th>Q</th>\n",
       "      <th>C</th>\n",
       "    </tr>\n",
       "  </thead>\n",
       "  <tbody>\n",
       "    <tr>\n",
       "      <th>0</th>\n",
       "      <td>0</td>\n",
       "      <td>0</td>\n",
       "      <td>0</td>\n",
       "      <td>4</td>\n",
       "      <td>8</td>\n",
       "      <td>50</td>\n",
       "      <td>124</td>\n",
       "      <td>146</td>\n",
       "      <td>181</td>\n",
       "      <td>223</td>\n",
       "      <td>...</td>\n",
       "      <td>244</td>\n",
       "      <td>186</td>\n",
       "      <td>172</td>\n",
       "      <td>126</td>\n",
       "      <td>93</td>\n",
       "      <td>15</td>\n",
       "      <td>4</td>\n",
       "      <td>2</td>\n",
       "      <td>0</td>\n",
       "      <td>0</td>\n",
       "    </tr>\n",
       "  </tbody>\n",
       "</table>\n",
       "<p>1 rows × 32 columns</p>\n",
       "</div>"
      ],
      "text/plain": [
       "   Y  Š  X  W  F   Ü    Õ    J    D    O  ...    P    H    Ä    G   B   Ö  Z  \\\n",
       "0  0  0  0  4  8  50  124  146  181  223  ...  244  186  172  126  93  15  4   \n",
       "\n",
       "   Ž  Q  C  \n",
       "0  2  0  0  \n",
       "\n",
       "[1 rows x 32 columns]"
      ]
     },
     "execution_count": 17,
     "metadata": {},
     "output_type": "execute_result"
    }
   ],
   "source": [
    "# Assuming df12 is already created and is available in the environment\n",
    "# We will first sort the values in df12 in descending order\n",
    "sorted_values = df12.iloc[0].sort_values(ascending=False)\n",
    "\n",
    "# Extract the sorted column names\n",
    "sorted_column_names = sorted_values.index.tolist()\n",
    "\n",
    "# Split the sorted column names into two halves\n",
    "first_half = sorted_column_names[1::2]  # This will be placed on the left side (in reverse order)\n",
    "second_half = sorted_column_names[::2]  # This will be placed on the right side\n",
    "\n",
    "# Reverse the first half to start with the second highest value\n",
    "first_half = first_half[::-1]\n",
    "\n",
    "# Calculate the middle index\n",
    "middle_index = len(sorted_column_names) // 2\n",
    "\n",
    "# Initialize a list for the new column order\n",
    "new_column_order = [None] * len(sorted_column_names)\n",
    "\n",
    "# Place the first half in reverse order to the left side of the middle index\n",
    "new_column_order[middle_index - len(first_half): middle_index] = first_half\n",
    "\n",
    "# Place the second half in order to the right side of the middle index\n",
    "new_column_order[middle_index: middle_index + len(second_half)] = second_half\n",
    "\n",
    "# Filter out any None values that may have been inserted in the new_column_order list\n",
    "new_column_order = [col for col in new_column_order if col is not None]\n",
    "\n",
    "# Create the new dataframe df22 with columns ordered as specified\n",
    "df22 = df12[new_column_order]\n",
    "\n",
    "# Display the new dataframe df22\n",
    "df22"
   ]
  },
  {
   "cell_type": "code",
   "execution_count": null,
   "metadata": {},
   "outputs": [],
   "source": []
  },
  {
   "cell_type": "code",
   "execution_count": 18,
   "metadata": {},
   "outputs": [
    {
     "data": {
      "image/png": "[encoded data removed]",
      "text/plain": [
       "<Figure size 2000x1000 with 1 Axes>"
      ]
     },
     "metadata": {},
     "output_type": "display_data"
    }
   ],
   "source": [
    "# Since df22 has a single row, we'll select that row for plotting\n",
    "row_for_plotting = df22.iloc[0]\n",
    "\n",
    "# Create a bar plot using the data\n",
    "plt.figure(figsize=(20, 10))  # Adjust the size as needed\n",
    "row_for_plotting.plot(kind='bar', color='skyblue')\n",
    "\n",
    "# Set the title and labels\n",
    "plt.title('Sum of Boolean Values per Column')\n",
    "plt.xlabel('Columns')\n",
    "plt.ylabel('Sum of Boolean Values')\n",
    "\n",
    "# Rotate the x-axis labels for better readability\n",
    "plt.xticks(rotation=90)\n",
    "\n",
    "# Show the plot\n",
    "plt.show()"
   ]
  },
  {
   "cell_type": "code",
   "execution_count": null,
   "metadata": {},
   "outputs": [],
   "source": []
  },
  {
   "cell_type": "code",
   "execution_count": 19,
   "metadata": {},
   "outputs": [
    {
     "data": {
      "text/plain": [
       "'Minimum: 2'"
      ]
     },
     "metadata": {},
     "output_type": "display_data"
    },
    {
     "data": {
      "text/plain": [
       "'Average: 7'"
      ]
     },
     "metadata": {},
     "output_type": "display_data"
    },
    {
     "data": {
      "text/plain": [
       "'Maximum: 16'"
      ]
     },
     "metadata": {},
     "output_type": "display_data"
    }
   ],
   "source": [
    "# Calculate the minimum, average, and maximum of the 'Pikkus' column\n",
    "pikkus_min = df3['Pikkus'].min()\n",
    "pikkus_avg = df3['Pikkus'].mean()\n",
    "pikkus_max = df3['Pikkus'].max()\n",
    "\n",
    "# Display the results\n",
    "display(f\"Minimum: {pikkus_min}\")\n",
    "display(f\"Average: {round(pikkus_avg)}\")\n",
    "display(f\"Maximum: {pikkus_max}\")"
   ]
  },
  {
   "cell_type": "code",
   "execution_count": null,
   "metadata": {},
   "outputs": [],
   "source": []
  },
  {
   "cell_type": "code",
   "execution_count": null,
   "metadata": {},
   "outputs": [],
   "source": []
  }
 ],
 "metadata": {
  "colab": {
   "name": "IDS2020_HW09.ipynb",
   "provenance": []
  },
  "kernelspec": {
   "display_name": "Python 3 (ipykernel)",
   "language": "python",
   "name": "python3"
  },
  "language_info": {
   "codemirror_mode": {
    "name": "ipython",
    "version": 3
   },
   "file_extension": ".py",
   "mimetype": "text/x-python",
   "name": "python",
   "nbconvert_exporter": "python",
   "pygments_lexer": "ipython3",
   "version": "3.11.5"
  }
 },
 "nbformat": 4,
 "nbformat_minor": 1
}
